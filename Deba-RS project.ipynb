{
 "cells": [
  {
   "cell_type": "markdown",
   "id": "b3d253ca-ca17-43b7-809b-bd36f71a94c6",
   "metadata": {},
   "source": [
    "# 1.A"
   ]
  },
  {
   "cell_type": "code",
   "execution_count": 2,
   "id": "0f866b02-1358-4552-a179-1a6072c389c8",
   "metadata": {},
   "outputs": [],
   "source": [
    "import pandas as pd\n",
    "from glob import glob"
   ]
  },
  {
   "cell_type": "code",
   "execution_count": 3,
   "id": "e8dbe9fe-d11d-49df-b4ad-80d43130aec3",
   "metadata": {},
   "outputs": [
    {
     "data": {
      "text/plain": [
       "['//Users//debanarzary//Downloads//Data Set/phone_user_review_file_1.csv',\n",
       " '//Users//debanarzary//Downloads//Data Set/phone_user_review_file_2.csv',\n",
       " '//Users//debanarzary//Downloads//Data Set/phone_user_review_file_3.csv',\n",
       " '//Users//debanarzary//Downloads//Data Set/phone_user_review_file_4.csv',\n",
       " '//Users//debanarzary//Downloads//Data Set/phone_user_review_file_5.csv',\n",
       " '//Users//debanarzary//Downloads//Data Set/phone_user_review_file_6.csv']"
      ]
     },
     "execution_count": 3,
     "metadata": {},
     "output_type": "execute_result"
    }
   ],
   "source": [
    "p_file=sorted(glob('//Users//debanarzary//Downloads//Data Set//phone_user_review_file_*.csv'))\n",
    "p_file"
   ]
  },
  {
   "cell_type": "code",
   "execution_count": 4,
   "id": "06e4acb9-c6aa-4023-850b-13b2d1f82574",
   "metadata": {},
   "outputs": [],
   "source": [
    "df=pd.concat((pd.read_csv(file,encoding='latin-1').assign(filename=file)\n",
    "             for file in p_file),ignore_index=True)"
   ]
  },
  {
   "cell_type": "markdown",
   "id": "9afd88ce-35d8-49fc-a26a-675679797fc5",
   "metadata": {},
   "source": [
    "# 1.B"
   ]
  },
  {
   "cell_type": "code",
   "execution_count": 5,
   "id": "e6beb4b2-ca19-401b-8de9-2ed51e295962",
   "metadata": {},
   "outputs": [
    {
     "data": {
      "text/html": [
       "<div>\n",
       "<style scoped>\n",
       "    .dataframe tbody tr th:only-of-type {\n",
       "        vertical-align: middle;\n",
       "    }\n",
       "\n",
       "    .dataframe tbody tr th {\n",
       "        vertical-align: top;\n",
       "    }\n",
       "\n",
       "    .dataframe thead th {\n",
       "        text-align: right;\n",
       "    }\n",
       "</style>\n",
       "<table border=\"1\" class=\"dataframe\">\n",
       "  <thead>\n",
       "    <tr style=\"text-align: right;\">\n",
       "      <th></th>\n",
       "      <th>score</th>\n",
       "      <th>score_max</th>\n",
       "    </tr>\n",
       "  </thead>\n",
       "  <tbody>\n",
       "    <tr>\n",
       "      <th>count</th>\n",
       "      <td>1.351644e+06</td>\n",
       "      <td>1351644.0</td>\n",
       "    </tr>\n",
       "    <tr>\n",
       "      <th>mean</th>\n",
       "      <td>8.007060e+00</td>\n",
       "      <td>10.0</td>\n",
       "    </tr>\n",
       "    <tr>\n",
       "      <th>std</th>\n",
       "      <td>2.616121e+00</td>\n",
       "      <td>0.0</td>\n",
       "    </tr>\n",
       "    <tr>\n",
       "      <th>min</th>\n",
       "      <td>2.000000e-01</td>\n",
       "      <td>10.0</td>\n",
       "    </tr>\n",
       "    <tr>\n",
       "      <th>25%</th>\n",
       "      <td>7.200000e+00</td>\n",
       "      <td>10.0</td>\n",
       "    </tr>\n",
       "    <tr>\n",
       "      <th>50%</th>\n",
       "      <td>9.200000e+00</td>\n",
       "      <td>10.0</td>\n",
       "    </tr>\n",
       "    <tr>\n",
       "      <th>75%</th>\n",
       "      <td>1.000000e+01</td>\n",
       "      <td>10.0</td>\n",
       "    </tr>\n",
       "    <tr>\n",
       "      <th>max</th>\n",
       "      <td>1.000000e+01</td>\n",
       "      <td>10.0</td>\n",
       "    </tr>\n",
       "  </tbody>\n",
       "</table>\n",
       "</div>"
      ],
      "text/plain": [
       "              score  score_max\n",
       "count  1.351644e+06  1351644.0\n",
       "mean   8.007060e+00       10.0\n",
       "std    2.616121e+00        0.0\n",
       "min    2.000000e-01       10.0\n",
       "25%    7.200000e+00       10.0\n",
       "50%    9.200000e+00       10.0\n",
       "75%    1.000000e+01       10.0\n",
       "max    1.000000e+01       10.0"
      ]
     },
     "execution_count": 5,
     "metadata": {},
     "output_type": "execute_result"
    }
   ],
   "source": [
    "df.describe()"
   ]
  },
  {
   "cell_type": "code",
   "execution_count": 6,
   "id": "3d61fbbc-88bb-47bd-8ccb-20fa52a52223",
   "metadata": {},
   "outputs": [
    {
     "data": {
      "text/plain": [
       "phone_url     object\n",
       "date          object\n",
       "lang          object\n",
       "country       object\n",
       "source        object\n",
       "domain        object\n",
       "score        float64\n",
       "score_max    float64\n",
       "extract       object\n",
       "author        object\n",
       "product       object\n",
       "filename      object\n",
       "dtype: object"
      ]
     },
     "execution_count": 6,
     "metadata": {},
     "output_type": "execute_result"
    }
   ],
   "source": [
    "df.dtypes"
   ]
  },
  {
   "cell_type": "code",
   "execution_count": 7,
   "id": "1d83e996-8f95-4c2b-ae7a-06e2fae14c04",
   "metadata": {},
   "outputs": [
    {
     "data": {
      "text/plain": [
       "phone_url        0\n",
       "date             0\n",
       "lang             0\n",
       "country          0\n",
       "source           0\n",
       "domain           0\n",
       "score        63489\n",
       "score_max    63489\n",
       "extract      19361\n",
       "author       63202\n",
       "product          1\n",
       "filename         0\n",
       "dtype: int64"
      ]
     },
     "execution_count": 7,
     "metadata": {},
     "output_type": "execute_result"
    }
   ],
   "source": [
    "df.isna().sum()"
   ]
  },
  {
   "cell_type": "markdown",
   "id": "9bfd35ab-c30d-4a60-82df-d9f4baba0a94",
   "metadata": {},
   "source": [
    "Observations:\n",
    "\n",
    "1)There are only 2 floats and rest are objects in the dataframe.\n",
    "\n",
    "2)There are lots of missing values in the dataframe."
   ]
  },
  {
   "cell_type": "markdown",
   "id": "30625183-bfbb-42f1-accc-88a6c51ae0c2",
   "metadata": {},
   "source": [
    "# 1.C"
   ]
  },
  {
   "cell_type": "code",
   "execution_count": 8,
   "id": "13f406ae-e6f2-4855-b6f4-ae8431bb2b16",
   "metadata": {},
   "outputs": [
    {
     "data": {
      "text/plain": [
       "0          10.0\n",
       "1          10.0\n",
       "2           6.0\n",
       "3           9.0\n",
       "4           4.0\n",
       "           ... \n",
       "1415128     2.0\n",
       "1415129    10.0\n",
       "1415130     2.0\n",
       "1415131     8.0\n",
       "1415132     2.0\n",
       "Name: score, Length: 1415133, dtype: float64"
      ]
     },
     "execution_count": 8,
     "metadata": {},
     "output_type": "execute_result"
    }
   ],
   "source": [
    "df['score']=round(df['score'])\n",
    "df['score']"
   ]
  },
  {
   "cell_type": "code",
   "execution_count": 9,
   "id": "7cd04858-cd97-4dfe-9e50-f0274ec7caf6",
   "metadata": {},
   "outputs": [
    {
     "data": {
      "text/html": [
       "<div>\n",
       "<style scoped>\n",
       "    .dataframe tbody tr th:only-of-type {\n",
       "        vertical-align: middle;\n",
       "    }\n",
       "\n",
       "    .dataframe tbody tr th {\n",
       "        vertical-align: top;\n",
       "    }\n",
       "\n",
       "    .dataframe thead th {\n",
       "        text-align: right;\n",
       "    }\n",
       "</style>\n",
       "<table border=\"1\" class=\"dataframe\">\n",
       "  <thead>\n",
       "    <tr style=\"text-align: right;\">\n",
       "      <th></th>\n",
       "      <th>phone_url</th>\n",
       "      <th>date</th>\n",
       "      <th>lang</th>\n",
       "      <th>country</th>\n",
       "      <th>source</th>\n",
       "      <th>domain</th>\n",
       "      <th>score</th>\n",
       "      <th>score_max</th>\n",
       "      <th>extract</th>\n",
       "      <th>author</th>\n",
       "      <th>product</th>\n",
       "      <th>filename</th>\n",
       "    </tr>\n",
       "  </thead>\n",
       "  <tbody>\n",
       "    <tr>\n",
       "      <th>0</th>\n",
       "      <td>/cellphones/samsung-galaxy-s8/</td>\n",
       "      <td>5/2/2017</td>\n",
       "      <td>en</td>\n",
       "      <td>us</td>\n",
       "      <td>Verizon Wireless</td>\n",
       "      <td>verizonwireless.com</td>\n",
       "      <td>10.0</td>\n",
       "      <td>10.0</td>\n",
       "      <td>As a diehard Samsung fan who has had every Sam...</td>\n",
       "      <td>CarolAnn35</td>\n",
       "      <td>Samsung Galaxy S8</td>\n",
       "      <td>//Users//debanarzary//Downloads//Data Set/phon...</td>\n",
       "    </tr>\n",
       "    <tr>\n",
       "      <th>1</th>\n",
       "      <td>/cellphones/samsung-galaxy-s8/</td>\n",
       "      <td>4/28/2017</td>\n",
       "      <td>en</td>\n",
       "      <td>us</td>\n",
       "      <td>Phone Arena</td>\n",
       "      <td>phonearena.com</td>\n",
       "      <td>10.0</td>\n",
       "      <td>10.0</td>\n",
       "      <td>Love the phone. the phone is sleek and smooth ...</td>\n",
       "      <td>james0923</td>\n",
       "      <td>Samsung Galaxy S8</td>\n",
       "      <td>//Users//debanarzary//Downloads//Data Set/phon...</td>\n",
       "    </tr>\n",
       "    <tr>\n",
       "      <th>2</th>\n",
       "      <td>/cellphones/samsung-galaxy-s8/</td>\n",
       "      <td>5/4/2017</td>\n",
       "      <td>en</td>\n",
       "      <td>us</td>\n",
       "      <td>Amazon</td>\n",
       "      <td>amazon.com</td>\n",
       "      <td>6.0</td>\n",
       "      <td>10.0</td>\n",
       "      <td>Adequate feel. Nice heft. Processor's still sl...</td>\n",
       "      <td>R. Craig</td>\n",
       "      <td>Samsung Galaxy S8 (64GB) G950U 5.8\" 4G LTE Unl...</td>\n",
       "      <td>//Users//debanarzary//Downloads//Data Set/phon...</td>\n",
       "    </tr>\n",
       "    <tr>\n",
       "      <th>3</th>\n",
       "      <td>/cellphones/samsung-galaxy-s8/</td>\n",
       "      <td>5/2/2017</td>\n",
       "      <td>en</td>\n",
       "      <td>us</td>\n",
       "      <td>Samsung</td>\n",
       "      <td>samsung.com</td>\n",
       "      <td>9.0</td>\n",
       "      <td>10.0</td>\n",
       "      <td>Never disappointed. One of the reasons I've be...</td>\n",
       "      <td>Buster2020</td>\n",
       "      <td>Samsung Galaxy S8 64GB (AT&amp;T)</td>\n",
       "      <td>//Users//debanarzary//Downloads//Data Set/phon...</td>\n",
       "    </tr>\n",
       "    <tr>\n",
       "      <th>4</th>\n",
       "      <td>/cellphones/samsung-galaxy-s8/</td>\n",
       "      <td>5/11/2017</td>\n",
       "      <td>en</td>\n",
       "      <td>us</td>\n",
       "      <td>Verizon Wireless</td>\n",
       "      <td>verizonwireless.com</td>\n",
       "      <td>4.0</td>\n",
       "      <td>10.0</td>\n",
       "      <td>I've now found that i'm in a group of people t...</td>\n",
       "      <td>S Ate Mine</td>\n",
       "      <td>Samsung Galaxy S8</td>\n",
       "      <td>//Users//debanarzary//Downloads//Data Set/phon...</td>\n",
       "    </tr>\n",
       "  </tbody>\n",
       "</table>\n",
       "</div>"
      ],
      "text/plain": [
       "                        phone_url       date lang country            source  \\\n",
       "0  /cellphones/samsung-galaxy-s8/   5/2/2017   en      us  Verizon Wireless   \n",
       "1  /cellphones/samsung-galaxy-s8/  4/28/2017   en      us       Phone Arena   \n",
       "2  /cellphones/samsung-galaxy-s8/   5/4/2017   en      us            Amazon   \n",
       "3  /cellphones/samsung-galaxy-s8/   5/2/2017   en      us           Samsung   \n",
       "4  /cellphones/samsung-galaxy-s8/  5/11/2017   en      us  Verizon Wireless   \n",
       "\n",
       "                domain  score  score_max  \\\n",
       "0  verizonwireless.com   10.0       10.0   \n",
       "1       phonearena.com   10.0       10.0   \n",
       "2           amazon.com    6.0       10.0   \n",
       "3          samsung.com    9.0       10.0   \n",
       "4  verizonwireless.com    4.0       10.0   \n",
       "\n",
       "                                             extract       author  \\\n",
       "0  As a diehard Samsung fan who has had every Sam...   CarolAnn35   \n",
       "1  Love the phone. the phone is sleek and smooth ...    james0923   \n",
       "2  Adequate feel. Nice heft. Processor's still sl...     R. Craig   \n",
       "3  Never disappointed. One of the reasons I've be...  Buster2020    \n",
       "4  I've now found that i'm in a group of people t...   S Ate Mine   \n",
       "\n",
       "                                             product  \\\n",
       "0                                  Samsung Galaxy S8   \n",
       "1                                  Samsung Galaxy S8   \n",
       "2  Samsung Galaxy S8 (64GB) G950U 5.8\" 4G LTE Unl...   \n",
       "3                      Samsung Galaxy S8 64GB (AT&T)   \n",
       "4                                  Samsung Galaxy S8   \n",
       "\n",
       "                                            filename  \n",
       "0  //Users//debanarzary//Downloads//Data Set/phon...  \n",
       "1  //Users//debanarzary//Downloads//Data Set/phon...  \n",
       "2  //Users//debanarzary//Downloads//Data Set/phon...  \n",
       "3  //Users//debanarzary//Downloads//Data Set/phon...  \n",
       "4  //Users//debanarzary//Downloads//Data Set/phon...  "
      ]
     },
     "execution_count": 9,
     "metadata": {},
     "output_type": "execute_result"
    }
   ],
   "source": [
    "df.head()"
   ]
  },
  {
   "cell_type": "markdown",
   "id": "19efbcc8-a9e1-4cfc-b165-55080fa4194d",
   "metadata": {},
   "source": [
    "# 1.D"
   ]
  },
  {
   "cell_type": "code",
   "execution_count": 10,
   "id": "c0d16c8b-cb59-4e85-ad3b-458c87ef6109",
   "metadata": {},
   "outputs": [
    {
     "data": {
      "text/plain": [
       "phone_url        0\n",
       "date             0\n",
       "lang             0\n",
       "country          0\n",
       "source           0\n",
       "domain           0\n",
       "score        63489\n",
       "score_max    63489\n",
       "extract      19361\n",
       "author       63202\n",
       "product          1\n",
       "filename         0\n",
       "dtype: int64"
      ]
     },
     "execution_count": 10,
     "metadata": {},
     "output_type": "execute_result"
    }
   ],
   "source": [
    "df.isna().sum()"
   ]
  },
  {
   "cell_type": "code",
   "execution_count": 11,
   "id": "999d0374-e701-4094-ab66-676a88cb7419",
   "metadata": {},
   "outputs": [
    {
     "data": {
      "text/plain": [
       "0          10.0\n",
       "1          10.0\n",
       "2           6.0\n",
       "3           9.0\n",
       "4           4.0\n",
       "           ... \n",
       "1415128     2.0\n",
       "1415129    10.0\n",
       "1415130     2.0\n",
       "1415131     8.0\n",
       "1415132     2.0\n",
       "Name: score, Length: 1415133, dtype: float64"
      ]
     },
     "execution_count": 11,
     "metadata": {},
     "output_type": "execute_result"
    }
   ],
   "source": [
    "df['score']=df['score'].fillna(df['score'].mean())\n",
    "df['score']"
   ]
  },
  {
   "cell_type": "code",
   "execution_count": 12,
   "id": "9c94ea63-bf38-4675-a564-a85886b673cb",
   "metadata": {},
   "outputs": [
    {
     "data": {
      "text/plain": [
       "0          10.0\n",
       "1          10.0\n",
       "2          10.0\n",
       "3          10.0\n",
       "4          10.0\n",
       "           ... \n",
       "1415128    10.0\n",
       "1415129    10.0\n",
       "1415130    10.0\n",
       "1415131    10.0\n",
       "1415132    10.0\n",
       "Name: score_max, Length: 1415133, dtype: float64"
      ]
     },
     "execution_count": 12,
     "metadata": {},
     "output_type": "execute_result"
    }
   ],
   "source": [
    "df['score_max']=df['score_max'].fillna(df['score_max'].mean())\n",
    "df['score_max']"
   ]
  },
  {
   "cell_type": "code",
   "execution_count": 13,
   "id": "4eaf5a3f-56cb-4c5b-b63c-2eb3b8d88718",
   "metadata": {},
   "outputs": [],
   "source": [
    "df=df.dropna(axis=0)"
   ]
  },
  {
   "cell_type": "code",
   "execution_count": 14,
   "id": "9e2f8379-fca4-4934-ae50-375a21fc3543",
   "metadata": {},
   "outputs": [
    {
     "data": {
      "text/plain": [
       "(1336416, 12)"
      ]
     },
     "execution_count": 14,
     "metadata": {},
     "output_type": "execute_result"
    }
   ],
   "source": [
    "df.shape"
   ]
  },
  {
   "cell_type": "markdown",
   "id": "cffa2df0-cfe6-415a-afc9-5cd262a8357e",
   "metadata": {},
   "source": [
    "# 1.E"
   ]
  },
  {
   "cell_type": "code",
   "execution_count": 15,
   "id": "99f18347-2afd-4b4d-9617-696cc913bc13",
   "metadata": {},
   "outputs": [
    {
     "data": {
      "text/plain": [
       "True"
      ]
     },
     "execution_count": 15,
     "metadata": {},
     "output_type": "execute_result"
    }
   ],
   "source": [
    "df.duplicated().any()"
   ]
  },
  {
   "cell_type": "code",
   "execution_count": 16,
   "id": "c7f9d9c8-3aa0-4a56-955b-e404da9e7fd8",
   "metadata": {},
   "outputs": [],
   "source": [
    "df=df.drop_duplicates()"
   ]
  },
  {
   "cell_type": "code",
   "execution_count": 17,
   "id": "70dd2c47-ed52-4c00-a7f0-f54864748c80",
   "metadata": {},
   "outputs": [
    {
     "data": {
      "text/plain": [
       "(1331847, 12)"
      ]
     },
     "execution_count": 17,
     "metadata": {},
     "output_type": "execute_result"
    }
   ],
   "source": [
    "df.shape"
   ]
  },
  {
   "cell_type": "markdown",
   "id": "33fa18ee-7354-4ada-ad83-5f8d7e6b1588",
   "metadata": {},
   "source": [
    "# 1.F"
   ]
  },
  {
   "cell_type": "code",
   "execution_count": 18,
   "id": "5179bfc3-46e1-46cd-9311-8f04485d9a05",
   "metadata": {},
   "outputs": [
    {
     "data": {
      "text/html": [
       "<div>\n",
       "<style scoped>\n",
       "    .dataframe tbody tr th:only-of-type {\n",
       "        vertical-align: middle;\n",
       "    }\n",
       "\n",
       "    .dataframe tbody tr th {\n",
       "        vertical-align: top;\n",
       "    }\n",
       "\n",
       "    .dataframe thead th {\n",
       "        text-align: right;\n",
       "    }\n",
       "</style>\n",
       "<table border=\"1\" class=\"dataframe\">\n",
       "  <thead>\n",
       "    <tr style=\"text-align: right;\">\n",
       "      <th></th>\n",
       "      <th>phone_url</th>\n",
       "      <th>date</th>\n",
       "      <th>lang</th>\n",
       "      <th>country</th>\n",
       "      <th>source</th>\n",
       "      <th>domain</th>\n",
       "      <th>score</th>\n",
       "      <th>score_max</th>\n",
       "      <th>extract</th>\n",
       "      <th>author</th>\n",
       "      <th>product</th>\n",
       "      <th>filename</th>\n",
       "    </tr>\n",
       "  </thead>\n",
       "  <tbody>\n",
       "    <tr>\n",
       "      <th>551832</th>\n",
       "      <td>/cellphones/huawei-ascend-g6/</td>\n",
       "      <td>9/16/2014</td>\n",
       "      <td>ru</td>\n",
       "      <td>ru</td>\n",
       "      <td>Onliner</td>\n",
       "      <td>catalog.onliner.by</td>\n",
       "      <td>10.0</td>\n",
       "      <td>10.0</td>\n",
       "      <td>2 Ð½ÐµÐ´ÐµÐ»Ð¸ Ð¿Ð¾Ð»ÑÐ·ÑÑÑÑ Ð´Ð°Ð½Ð½ÑÐ¼...</td>\n",
       "      <td>losza</td>\n",
       "      <td>Huawei Ascend G6-U10</td>\n",
       "      <td>//Users//debanarzary//Downloads//Data Set/phon...</td>\n",
       "    </tr>\n",
       "    <tr>\n",
       "      <th>554856</th>\n",
       "      <td>/cellphones/blackberry-classic/</td>\n",
       "      <td>7/6/2016</td>\n",
       "      <td>de</td>\n",
       "      <td>de</td>\n",
       "      <td>Amazon</td>\n",
       "      <td>amazon.de</td>\n",
       "      <td>8.0</td>\n",
       "      <td>10.0</td>\n",
       "      <td>In den letzten zweieinhalb Jahren war ich (bis...</td>\n",
       "      <td>piquadrat</td>\n",
       "      <td>Blackberry Classic Smartphone (3,5 Zoll (8,9 c...</td>\n",
       "      <td>//Users//debanarzary//Downloads//Data Set/phon...</td>\n",
       "    </tr>\n",
       "    <tr>\n",
       "      <th>868886</th>\n",
       "      <td>/cellphones/sony-xperia-e/</td>\n",
       "      <td>19/1/2015</td>\n",
       "      <td>en</td>\n",
       "      <td>gb</td>\n",
       "      <td>Amazon</td>\n",
       "      <td>amazon.co.uk</td>\n",
       "      <td>10.0</td>\n",
       "      <td>10.0</td>\n",
       "      <td>Nice phone good value good service thank you</td>\n",
       "      <td>cheryl trigg</td>\n",
       "      <td>Xperia Sony Xperia E SIM-free Android Smartpho...</td>\n",
       "      <td>//Users//debanarzary//Downloads//Data Set/phon...</td>\n",
       "    </tr>\n",
       "    <tr>\n",
       "      <th>547724</th>\n",
       "      <td>/cellphones/oneplus-two/</td>\n",
       "      <td>9/13/2015</td>\n",
       "      <td>en</td>\n",
       "      <td>in</td>\n",
       "      <td>Amazon</td>\n",
       "      <td>amazon.in</td>\n",
       "      <td>2.0</td>\n",
       "      <td>10.0</td>\n",
       "      <td>I am using this device for 4-5 months now. I w...</td>\n",
       "      <td>Amazon Customer</td>\n",
       "      <td>OnePlus 2 (Sandstone Black, 64GB)</td>\n",
       "      <td>//Users//debanarzary//Downloads//Data Set/phon...</td>\n",
       "    </tr>\n",
       "    <tr>\n",
       "      <th>589444</th>\n",
       "      <td>/cellphones/samsung-g355-galaxy-core-ii/</td>\n",
       "      <td>1/14/2016</td>\n",
       "      <td>it</td>\n",
       "      <td>it</td>\n",
       "      <td>Amazon</td>\n",
       "      <td>amazon.it</td>\n",
       "      <td>8.0</td>\n",
       "      <td>10.0</td>\n",
       "      <td>Il terminale ha soddisfatto le aspettative di ...</td>\n",
       "      <td>Marcello</td>\n",
       "      <td>Samsung G355HN Galaxy Core 2 Duos Smartphone, ...</td>\n",
       "      <td>//Users//debanarzary//Downloads//Data Set/phon...</td>\n",
       "    </tr>\n",
       "    <tr>\n",
       "      <th>...</th>\n",
       "      <td>...</td>\n",
       "      <td>...</td>\n",
       "      <td>...</td>\n",
       "      <td>...</td>\n",
       "      <td>...</td>\n",
       "      <td>...</td>\n",
       "      <td>...</td>\n",
       "      <td>...</td>\n",
       "      <td>...</td>\n",
       "      <td>...</td>\n",
       "      <td>...</td>\n",
       "      <td>...</td>\n",
       "    </tr>\n",
       "    <tr>\n",
       "      <th>197280</th>\n",
       "      <td>/cellphones/samsung-galaxy-a5/</td>\n",
       "      <td>4/13/2015</td>\n",
       "      <td>en</td>\n",
       "      <td>us</td>\n",
       "      <td>Amazon</td>\n",
       "      <td>amazon.com</td>\n",
       "      <td>8.0</td>\n",
       "      <td>10.0</td>\n",
       "      <td>This phone is another Samsung slam dunk. Howev...</td>\n",
       "      <td>Meesha</td>\n",
       "      <td>Samsung Galaxy A5 LTE white SM-A500F Factory U...</td>\n",
       "      <td>//Users//debanarzary//Downloads//Data Set/phon...</td>\n",
       "    </tr>\n",
       "    <tr>\n",
       "      <th>433208</th>\n",
       "      <td>/cellphones/panasonic-eluga-mark/</td>\n",
       "      <td>12/21/2015</td>\n",
       "      <td>en</td>\n",
       "      <td>in</td>\n",
       "      <td>Amazon</td>\n",
       "      <td>amazon.in</td>\n",
       "      <td>10.0</td>\n",
       "      <td>10.0</td>\n",
       "      <td>Best config + Style</td>\n",
       "      <td>Shirshak</td>\n",
       "      <td>Panasonic Eluga Mark EB-90S55EMK (Royal Gold)</td>\n",
       "      <td>//Users//debanarzary//Downloads//Data Set/phon...</td>\n",
       "    </tr>\n",
       "    <tr>\n",
       "      <th>786065</th>\n",
       "      <td>/cellphones/wiko-cink-slim/</td>\n",
       "      <td>3/26/2013</td>\n",
       "      <td>fr</td>\n",
       "      <td>fr</td>\n",
       "      <td>Mobiles-Actus</td>\n",
       "      <td>mobiles-actus.com</td>\n",
       "      <td>6.0</td>\n",
       "      <td>10.0</td>\n",
       "      <td>TROP tÃ´t pour dire un peu compliquer, je comp...</td>\n",
       "      <td>gislaine</td>\n",
       "      <td>Wiko Cink Slim</td>\n",
       "      <td>//Users//debanarzary//Downloads//Data Set/phon...</td>\n",
       "    </tr>\n",
       "    <tr>\n",
       "      <th>230971</th>\n",
       "      <td>/cellphones/microsoft-lumia-950-xl/</td>\n",
       "      <td>1/16/2016</td>\n",
       "      <td>it</td>\n",
       "      <td>it</td>\n",
       "      <td>Amazon</td>\n",
       "      <td>amazon.it</td>\n",
       "      <td>2.0</td>\n",
       "      <td>10.0</td>\n",
       "      <td>Recapitato con precisione chirurgica. Telefono...</td>\n",
       "      <td>Medico118</td>\n",
       "      <td>Microsoft Telefonia Lumia 950 XL Smartphone, 3...</td>\n",
       "      <td>//Users//debanarzary//Downloads//Data Set/phon...</td>\n",
       "    </tr>\n",
       "    <tr>\n",
       "      <th>384235</th>\n",
       "      <td>/cellphones/sony-xperia-z3/</td>\n",
       "      <td>10/3/2014</td>\n",
       "      <td>es</td>\n",
       "      <td>es</td>\n",
       "      <td>Amazon</td>\n",
       "      <td>amazon.es</td>\n",
       "      <td>8.0</td>\n",
       "      <td>10.0</td>\n",
       "      <td>TelÃ©fono excepcional con una calidad y diseÃ±...</td>\n",
       "      <td>Emilio</td>\n",
       "      <td>Sony Xperia Z3 - Smartphone (13,21 cm (5.2\"), ...</td>\n",
       "      <td>//Users//debanarzary//Downloads//Data Set/phon...</td>\n",
       "    </tr>\n",
       "  </tbody>\n",
       "</table>\n",
       "<p>1000000 rows × 12 columns</p>\n",
       "</div>"
      ],
      "text/plain": [
       "                                       phone_url        date lang country  \\\n",
       "551832             /cellphones/huawei-ascend-g6/   9/16/2014   ru      ru   \n",
       "554856           /cellphones/blackberry-classic/    7/6/2016   de      de   \n",
       "868886                /cellphones/sony-xperia-e/   19/1/2015   en      gb   \n",
       "547724                  /cellphones/oneplus-two/   9/13/2015   en      in   \n",
       "589444  /cellphones/samsung-g355-galaxy-core-ii/   1/14/2016   it      it   \n",
       "...                                          ...         ...  ...     ...   \n",
       "197280            /cellphones/samsung-galaxy-a5/   4/13/2015   en      us   \n",
       "433208         /cellphones/panasonic-eluga-mark/  12/21/2015   en      in   \n",
       "786065               /cellphones/wiko-cink-slim/   3/26/2013   fr      fr   \n",
       "230971       /cellphones/microsoft-lumia-950-xl/   1/16/2016   it      it   \n",
       "384235               /cellphones/sony-xperia-z3/   10/3/2014   es      es   \n",
       "\n",
       "               source              domain  score  score_max  \\\n",
       "551832        Onliner  catalog.onliner.by   10.0       10.0   \n",
       "554856         Amazon           amazon.de    8.0       10.0   \n",
       "868886         Amazon        amazon.co.uk   10.0       10.0   \n",
       "547724         Amazon           amazon.in    2.0       10.0   \n",
       "589444         Amazon           amazon.it    8.0       10.0   \n",
       "...               ...                 ...    ...        ...   \n",
       "197280         Amazon          amazon.com    8.0       10.0   \n",
       "433208         Amazon           amazon.in   10.0       10.0   \n",
       "786065  Mobiles-Actus   mobiles-actus.com    6.0       10.0   \n",
       "230971         Amazon           amazon.it    2.0       10.0   \n",
       "384235         Amazon           amazon.es    8.0       10.0   \n",
       "\n",
       "                                                  extract           author  \\\n",
       "551832  2 Ð½ÐµÐ´ÐµÐ»Ð¸ Ð¿Ð¾Ð»ÑÐ·ÑÑÑÑ Ð´Ð°Ð½Ð½ÑÐ¼...            losza   \n",
       "554856  In den letzten zweieinhalb Jahren war ich (bis...        piquadrat   \n",
       "868886       Nice phone good value good service thank you     cheryl trigg   \n",
       "547724  I am using this device for 4-5 months now. I w...  Amazon Customer   \n",
       "589444  Il terminale ha soddisfatto le aspettative di ...         Marcello   \n",
       "...                                                   ...              ...   \n",
       "197280  This phone is another Samsung slam dunk. Howev...           Meesha   \n",
       "433208                                Best config + Style         Shirshak   \n",
       "786065  TROP tÃ´t pour dire un peu compliquer, je comp...         gislaine   \n",
       "230971  Recapitato con precisione chirurgica. Telefono...        Medico118   \n",
       "384235  TelÃ©fono excepcional con una calidad y diseÃ±...           Emilio   \n",
       "\n",
       "                                                  product  \\\n",
       "551832                               Huawei Ascend G6-U10   \n",
       "554856  Blackberry Classic Smartphone (3,5 Zoll (8,9 c...   \n",
       "868886  Xperia Sony Xperia E SIM-free Android Smartpho...   \n",
       "547724                  OnePlus 2 (Sandstone Black, 64GB)   \n",
       "589444  Samsung G355HN Galaxy Core 2 Duos Smartphone, ...   \n",
       "...                                                   ...   \n",
       "197280  Samsung Galaxy A5 LTE white SM-A500F Factory U...   \n",
       "433208      Panasonic Eluga Mark EB-90S55EMK (Royal Gold)   \n",
       "786065                                     Wiko Cink Slim   \n",
       "230971  Microsoft Telefonia Lumia 950 XL Smartphone, 3...   \n",
       "384235  Sony Xperia Z3 - Smartphone (13,21 cm (5.2\"), ...   \n",
       "\n",
       "                                                 filename  \n",
       "551832  //Users//debanarzary//Downloads//Data Set/phon...  \n",
       "554856  //Users//debanarzary//Downloads//Data Set/phon...  \n",
       "868886  //Users//debanarzary//Downloads//Data Set/phon...  \n",
       "547724  //Users//debanarzary//Downloads//Data Set/phon...  \n",
       "589444  //Users//debanarzary//Downloads//Data Set/phon...  \n",
       "...                                                   ...  \n",
       "197280  //Users//debanarzary//Downloads//Data Set/phon...  \n",
       "433208  //Users//debanarzary//Downloads//Data Set/phon...  \n",
       "786065  //Users//debanarzary//Downloads//Data Set/phon...  \n",
       "230971  //Users//debanarzary//Downloads//Data Set/phon...  \n",
       "384235  //Users//debanarzary//Downloads//Data Set/phon...  \n",
       "\n",
       "[1000000 rows x 12 columns]"
      ]
     },
     "execution_count": 18,
     "metadata": {},
     "output_type": "execute_result"
    }
   ],
   "source": [
    "df.sample(n=1000000,axis=0,random_state=612)"
   ]
  },
  {
   "cell_type": "markdown",
   "id": "fb507e35-c16f-41a3-8ab7-8d669e04d321",
   "metadata": {},
   "source": [
    "# 1.G"
   ]
  },
  {
   "cell_type": "code",
   "execution_count": 19,
   "id": "17af8873-5572-4641-be33-c85cc32ca4ef",
   "metadata": {},
   "outputs": [],
   "source": [
    "df=df.drop(['phone_url','date','lang','country','source','domain','score_max','extract','filename'],axis=1)"
   ]
  },
  {
   "cell_type": "code",
   "execution_count": 20,
   "id": "22377c7c-8b86-42e1-a325-b51c5d0532b9",
   "metadata": {},
   "outputs": [
    {
     "data": {
      "text/html": [
       "<div>\n",
       "<style scoped>\n",
       "    .dataframe tbody tr th:only-of-type {\n",
       "        vertical-align: middle;\n",
       "    }\n",
       "\n",
       "    .dataframe tbody tr th {\n",
       "        vertical-align: top;\n",
       "    }\n",
       "\n",
       "    .dataframe thead th {\n",
       "        text-align: right;\n",
       "    }\n",
       "</style>\n",
       "<table border=\"1\" class=\"dataframe\">\n",
       "  <thead>\n",
       "    <tr style=\"text-align: right;\">\n",
       "      <th></th>\n",
       "      <th>score</th>\n",
       "      <th>author</th>\n",
       "      <th>product</th>\n",
       "    </tr>\n",
       "  </thead>\n",
       "  <tbody>\n",
       "    <tr>\n",
       "      <th>0</th>\n",
       "      <td>10.0</td>\n",
       "      <td>CarolAnn35</td>\n",
       "      <td>Samsung Galaxy S8</td>\n",
       "    </tr>\n",
       "    <tr>\n",
       "      <th>1</th>\n",
       "      <td>10.0</td>\n",
       "      <td>james0923</td>\n",
       "      <td>Samsung Galaxy S8</td>\n",
       "    </tr>\n",
       "    <tr>\n",
       "      <th>2</th>\n",
       "      <td>6.0</td>\n",
       "      <td>R. Craig</td>\n",
       "      <td>Samsung Galaxy S8 (64GB) G950U 5.8\" 4G LTE Unl...</td>\n",
       "    </tr>\n",
       "    <tr>\n",
       "      <th>3</th>\n",
       "      <td>9.0</td>\n",
       "      <td>Buster2020</td>\n",
       "      <td>Samsung Galaxy S8 64GB (AT&amp;T)</td>\n",
       "    </tr>\n",
       "    <tr>\n",
       "      <th>4</th>\n",
       "      <td>4.0</td>\n",
       "      <td>S Ate Mine</td>\n",
       "      <td>Samsung Galaxy S8</td>\n",
       "    </tr>\n",
       "  </tbody>\n",
       "</table>\n",
       "</div>"
      ],
      "text/plain": [
       "   score       author                                            product\n",
       "0   10.0   CarolAnn35                                  Samsung Galaxy S8\n",
       "1   10.0    james0923                                  Samsung Galaxy S8\n",
       "2    6.0     R. Craig  Samsung Galaxy S8 (64GB) G950U 5.8\" 4G LTE Unl...\n",
       "3    9.0  Buster2020                       Samsung Galaxy S8 64GB (AT&T)\n",
       "4    4.0   S Ate Mine                                  Samsung Galaxy S8"
      ]
     },
     "execution_count": 20,
     "metadata": {},
     "output_type": "execute_result"
    }
   ],
   "source": [
    "df.head()"
   ]
  },
  {
   "cell_type": "markdown",
   "id": "60306f08-f975-4010-9fcc-4c4cd6dd7b0a",
   "metadata": {},
   "source": [
    "# 2.A"
   ]
  },
  {
   "cell_type": "code",
   "execution_count": 21,
   "id": "388e4c2f-2fa3-4510-b636-5c970335bbda",
   "metadata": {},
   "outputs": [
    {
     "data": {
      "text/html": [
       "<div>\n",
       "<style scoped>\n",
       "    .dataframe tbody tr th:only-of-type {\n",
       "        vertical-align: middle;\n",
       "    }\n",
       "\n",
       "    .dataframe tbody tr th {\n",
       "        vertical-align: top;\n",
       "    }\n",
       "\n",
       "    .dataframe thead th {\n",
       "        text-align: right;\n",
       "    }\n",
       "</style>\n",
       "<table border=\"1\" class=\"dataframe\">\n",
       "  <thead>\n",
       "    <tr style=\"text-align: right;\">\n",
       "      <th></th>\n",
       "      <th>product</th>\n",
       "      <th>num_rating</th>\n",
       "    </tr>\n",
       "  </thead>\n",
       "  <tbody>\n",
       "    <tr>\n",
       "      <th>0</th>\n",
       "      <td>Lenovo Vibe K4 Note (White,16GB)</td>\n",
       "      <td>5223</td>\n",
       "    </tr>\n",
       "    <tr>\n",
       "      <th>1</th>\n",
       "      <td>Lenovo Vibe K4 Note (Black, 16GB)</td>\n",
       "      <td>4389</td>\n",
       "    </tr>\n",
       "    <tr>\n",
       "      <th>2</th>\n",
       "      <td>OnePlus 3 (Graphite, 64 GB)</td>\n",
       "      <td>4103</td>\n",
       "    </tr>\n",
       "    <tr>\n",
       "      <th>3</th>\n",
       "      <td>OnePlus 3 (Soft Gold, 64 GB)</td>\n",
       "      <td>3557</td>\n",
       "    </tr>\n",
       "    <tr>\n",
       "      <th>4</th>\n",
       "      <td>Huawei P8lite zwart / 16 GB</td>\n",
       "      <td>2707</td>\n",
       "    </tr>\n",
       "    <tr>\n",
       "      <th>...</th>\n",
       "      <td>...</td>\n",
       "      <td>...</td>\n",
       "    </tr>\n",
       "    <tr>\n",
       "      <th>59989</th>\n",
       "      <td>Nokia ExpressMusic 5130</td>\n",
       "      <td>1</td>\n",
       "    </tr>\n",
       "    <tr>\n",
       "      <th>59990</th>\n",
       "      <td>Nokia Express Music 5130</td>\n",
       "      <td>1</td>\n",
       "    </tr>\n",
       "    <tr>\n",
       "      <th>59991</th>\n",
       "      <td>Nokia EE Nokia 130 Mobile Phone - Black</td>\n",
       "      <td>1</td>\n",
       "    </tr>\n",
       "    <tr>\n",
       "      <th>59992</th>\n",
       "      <td>Nokia E90 Communicator Smartphone HSDPA/quadri...</td>\n",
       "      <td>1</td>\n",
       "    </tr>\n",
       "    <tr>\n",
       "      <th>59993</th>\n",
       "      <td>éå±¬ + ç®é© = è³ªææ»¿åãWave 723 è©³æ...</td>\n",
       "      <td>1</td>\n",
       "    </tr>\n",
       "  </tbody>\n",
       "</table>\n",
       "<p>59994 rows × 2 columns</p>\n",
       "</div>"
      ],
      "text/plain": [
       "                                                 product  num_rating\n",
       "0                       Lenovo Vibe K4 Note (White,16GB)        5223\n",
       "1                      Lenovo Vibe K4 Note (Black, 16GB)        4389\n",
       "2                            OnePlus 3 (Graphite, 64 GB)        4103\n",
       "3                           OnePlus 3 (Soft Gold, 64 GB)        3557\n",
       "4                            Huawei P8lite zwart / 16 GB        2707\n",
       "...                                                  ...         ...\n",
       "59989                            Nokia ExpressMusic 5130           1\n",
       "59990                           Nokia Express Music 5130           1\n",
       "59991            Nokia EE Nokia 130 Mobile Phone - Black           1\n",
       "59992  Nokia E90 Communicator Smartphone HSDPA/quadri...           1\n",
       "59993  éå±¬ + ç®é© = è³ªææ»¿åãWave 723 è©³æ...           1\n",
       "\n",
       "[59994 rows x 2 columns]"
      ]
     },
     "execution_count": 21,
     "metadata": {},
     "output_type": "execute_result"
    }
   ],
   "source": [
    "product_rating=df.groupby('product')['score'].count().sort_values(ascending=False).reset_index()\n",
    "product_rating.rename(columns={'score':'num_rating'},inplace=True)\n",
    "product_rating"
   ]
  },
  {
   "cell_type": "markdown",
   "id": "223b37bc-2b88-4a32-b1af-ef124e63cdf1",
   "metadata": {
    "tags": []
   },
   "source": [
    "# 2.B"
   ]
  },
  {
   "cell_type": "code",
   "execution_count": 22,
   "id": "73a61d3b-c612-462b-a434-cf91a05ef873",
   "metadata": {},
   "outputs": [
    {
     "data": {
      "text/html": [
       "<div>\n",
       "<style scoped>\n",
       "    .dataframe tbody tr th:only-of-type {\n",
       "        vertical-align: middle;\n",
       "    }\n",
       "\n",
       "    .dataframe tbody tr th {\n",
       "        vertical-align: top;\n",
       "    }\n",
       "\n",
       "    .dataframe thead th {\n",
       "        text-align: right;\n",
       "    }\n",
       "</style>\n",
       "<table border=\"1\" class=\"dataframe\">\n",
       "  <thead>\n",
       "    <tr style=\"text-align: right;\">\n",
       "      <th></th>\n",
       "      <th>author</th>\n",
       "      <th>user_rating</th>\n",
       "    </tr>\n",
       "  </thead>\n",
       "  <tbody>\n",
       "    <tr>\n",
       "      <th>0</th>\n",
       "      <td>Amazon Customer</td>\n",
       "      <td>76950</td>\n",
       "    </tr>\n",
       "    <tr>\n",
       "      <th>1</th>\n",
       "      <td>Cliente Amazon</td>\n",
       "      <td>19300</td>\n",
       "    </tr>\n",
       "    <tr>\n",
       "      <th>2</th>\n",
       "      <td>e-bit</td>\n",
       "      <td>8411</td>\n",
       "    </tr>\n",
       "    <tr>\n",
       "      <th>3</th>\n",
       "      <td>Client d'Amazon</td>\n",
       "      <td>7716</td>\n",
       "    </tr>\n",
       "    <tr>\n",
       "      <th>4</th>\n",
       "      <td>Amazon Kunde</td>\n",
       "      <td>4746</td>\n",
       "    </tr>\n",
       "    <tr>\n",
       "      <th>...</th>\n",
       "      <td>...</td>\n",
       "      <td>...</td>\n",
       "    </tr>\n",
       "    <tr>\n",
       "      <th>792607</th>\n",
       "      <td>Lyda Trujillo</td>\n",
       "      <td>1</td>\n",
       "    </tr>\n",
       "    <tr>\n",
       "      <th>792608</th>\n",
       "      <td>Lyde10</td>\n",
       "      <td>1</td>\n",
       "    </tr>\n",
       "    <tr>\n",
       "      <th>792609</th>\n",
       "      <td>Lydi Rosi</td>\n",
       "      <td>1</td>\n",
       "    </tr>\n",
       "    <tr>\n",
       "      <th>792610</th>\n",
       "      <td>Lydia Ann</td>\n",
       "      <td>1</td>\n",
       "    </tr>\n",
       "    <tr>\n",
       "      <th>792611</th>\n",
       "      <td>ï¿½ï¿½ï¿½ï¿½ï¿½ï¿½ï¿½ï¿½ï¿½ Xï¿½ï¿½ ï¿½ï¿½ï¿½ï...</td>\n",
       "      <td>1</td>\n",
       "    </tr>\n",
       "  </tbody>\n",
       "</table>\n",
       "<p>792612 rows × 2 columns</p>\n",
       "</div>"
      ],
      "text/plain": [
       "                                                   author  user_rating\n",
       "0                                         Amazon Customer        76950\n",
       "1                                          Cliente Amazon        19300\n",
       "2                                                   e-bit         8411\n",
       "3                                         Client d'Amazon         7716\n",
       "4                                            Amazon Kunde         4746\n",
       "...                                                   ...          ...\n",
       "792607                                      Lyda Trujillo            1\n",
       "792608                                             Lyde10            1\n",
       "792609                                          Lydi Rosi            1\n",
       "792610                                          Lydia Ann            1\n",
       "792611  ï¿½ï¿½ï¿½ï¿½ï¿½ï¿½ï¿½ï¿½ï¿½ Xï¿½ï¿½ ï¿½ï¿½ï¿½ï...            1\n",
       "\n",
       "[792612 rows x 2 columns]"
      ]
     },
     "execution_count": 22,
     "metadata": {},
     "output_type": "execute_result"
    }
   ],
   "source": [
    "user_rating=df.groupby('author')['score'].count().sort_values(ascending=False).reset_index()\n",
    "user_rating.rename(columns={'score':'user_rating'},inplace=True)\n",
    "user_rating"
   ]
  },
  {
   "cell_type": "markdown",
   "id": "13e9c6b8-7e57-4a8e-a90f-82dc46940e75",
   "metadata": {},
   "source": [
    "# 2.C"
   ]
  },
  {
   "cell_type": "code",
   "execution_count": 23,
   "id": "17e5189e-2454-4461-a0e3-dc69f959c064",
   "metadata": {},
   "outputs": [
    {
     "data": {
      "text/html": [
       "<div>\n",
       "<style scoped>\n",
       "    .dataframe tbody tr th:only-of-type {\n",
       "        vertical-align: middle;\n",
       "    }\n",
       "\n",
       "    .dataframe tbody tr th {\n",
       "        vertical-align: top;\n",
       "    }\n",
       "\n",
       "    .dataframe thead th {\n",
       "        text-align: right;\n",
       "    }\n",
       "</style>\n",
       "<table border=\"1\" class=\"dataframe\">\n",
       "  <thead>\n",
       "    <tr style=\"text-align: right;\">\n",
       "      <th></th>\n",
       "      <th>product</th>\n",
       "      <th>num_rating</th>\n",
       "    </tr>\n",
       "  </thead>\n",
       "  <tbody>\n",
       "    <tr>\n",
       "      <th>0</th>\n",
       "      <td>Lenovo Vibe K4 Note (White,16GB)</td>\n",
       "      <td>5223</td>\n",
       "    </tr>\n",
       "    <tr>\n",
       "      <th>1</th>\n",
       "      <td>Lenovo Vibe K4 Note (Black, 16GB)</td>\n",
       "      <td>4389</td>\n",
       "    </tr>\n",
       "    <tr>\n",
       "      <th>2</th>\n",
       "      <td>OnePlus 3 (Graphite, 64 GB)</td>\n",
       "      <td>4103</td>\n",
       "    </tr>\n",
       "    <tr>\n",
       "      <th>3</th>\n",
       "      <td>OnePlus 3 (Soft Gold, 64 GB)</td>\n",
       "      <td>3557</td>\n",
       "    </tr>\n",
       "    <tr>\n",
       "      <th>4</th>\n",
       "      <td>Huawei P8lite zwart / 16 GB</td>\n",
       "      <td>2707</td>\n",
       "    </tr>\n",
       "    <tr>\n",
       "      <th>...</th>\n",
       "      <td>...</td>\n",
       "      <td>...</td>\n",
       "    </tr>\n",
       "    <tr>\n",
       "      <th>6253</th>\n",
       "      <td>Elephone BaterÃ­a Original para Elephone P7000</td>\n",
       "      <td>51</td>\n",
       "    </tr>\n",
       "    <tr>\n",
       "      <th>6254</th>\n",
       "      <td>Motorola DROID RAZR MAXX HD (Verizon Wireless)</td>\n",
       "      <td>51</td>\n",
       "    </tr>\n",
       "    <tr>\n",
       "      <th>6255</th>\n",
       "      <td>Motorola DROID RAZR MAXX, Black 32GB (Verizon ...</td>\n",
       "      <td>51</td>\n",
       "    </tr>\n",
       "    <tr>\n",
       "      <th>6256</th>\n",
       "      <td>Samsung Galaxy S7 32 GB Unlocked Phone - G930F...</td>\n",
       "      <td>51</td>\n",
       "    </tr>\n",
       "    <tr>\n",
       "      <th>6257</th>\n",
       "      <td>Nokia 8910</td>\n",
       "      <td>51</td>\n",
       "    </tr>\n",
       "  </tbody>\n",
       "</table>\n",
       "<p>6258 rows × 2 columns</p>\n",
       "</div>"
      ],
      "text/plain": [
       "                                                product  num_rating\n",
       "0                      Lenovo Vibe K4 Note (White,16GB)        5223\n",
       "1                     Lenovo Vibe K4 Note (Black, 16GB)        4389\n",
       "2                           OnePlus 3 (Graphite, 64 GB)        4103\n",
       "3                          OnePlus 3 (Soft Gold, 64 GB)        3557\n",
       "4                           Huawei P8lite zwart / 16 GB        2707\n",
       "...                                                 ...         ...\n",
       "6253     Elephone BaterÃ­a Original para Elephone P7000          51\n",
       "6254     Motorola DROID RAZR MAXX HD (Verizon Wireless)          51\n",
       "6255  Motorola DROID RAZR MAXX, Black 32GB (Verizon ...          51\n",
       "6256  Samsung Galaxy S7 32 GB Unlocked Phone - G930F...          51\n",
       "6257                                         Nokia 8910          51\n",
       "\n",
       "[6258 rows x 2 columns]"
      ]
     },
     "execution_count": 23,
     "metadata": {},
     "output_type": "execute_result"
    }
   ],
   "source": [
    "product=product_rating[product_rating['num_rating']>50]\n",
    "product"
   ]
  },
  {
   "cell_type": "code",
   "execution_count": 24,
   "id": "55cf173a-2455-4a16-afac-8215822c61d1",
   "metadata": {},
   "outputs": [
    {
     "data": {
      "text/html": [
       "<div>\n",
       "<style scoped>\n",
       "    .dataframe tbody tr th:only-of-type {\n",
       "        vertical-align: middle;\n",
       "    }\n",
       "\n",
       "    .dataframe tbody tr th {\n",
       "        vertical-align: top;\n",
       "    }\n",
       "\n",
       "    .dataframe thead th {\n",
       "        text-align: right;\n",
       "    }\n",
       "</style>\n",
       "<table border=\"1\" class=\"dataframe\">\n",
       "  <thead>\n",
       "    <tr style=\"text-align: right;\">\n",
       "      <th></th>\n",
       "      <th>author</th>\n",
       "      <th>user_rating</th>\n",
       "    </tr>\n",
       "  </thead>\n",
       "  <tbody>\n",
       "    <tr>\n",
       "      <th>0</th>\n",
       "      <td>Amazon Customer</td>\n",
       "      <td>76950</td>\n",
       "    </tr>\n",
       "    <tr>\n",
       "      <th>1</th>\n",
       "      <td>Cliente Amazon</td>\n",
       "      <td>19300</td>\n",
       "    </tr>\n",
       "    <tr>\n",
       "      <th>2</th>\n",
       "      <td>e-bit</td>\n",
       "      <td>8411</td>\n",
       "    </tr>\n",
       "    <tr>\n",
       "      <th>3</th>\n",
       "      <td>Client d'Amazon</td>\n",
       "      <td>7716</td>\n",
       "    </tr>\n",
       "    <tr>\n",
       "      <th>4</th>\n",
       "      <td>Amazon Kunde</td>\n",
       "      <td>4746</td>\n",
       "    </tr>\n",
       "    <tr>\n",
       "      <th>...</th>\n",
       "      <td>...</td>\n",
       "      <td>...</td>\n",
       "    </tr>\n",
       "    <tr>\n",
       "      <th>920</th>\n",
       "      <td>ÐÐ¸Ð°Ð½Ð°</td>\n",
       "      <td>51</td>\n",
       "    </tr>\n",
       "    <tr>\n",
       "      <th>921</th>\n",
       "      <td>dik1609</td>\n",
       "      <td>51</td>\n",
       "    </tr>\n",
       "    <tr>\n",
       "      <th>922</th>\n",
       "      <td>Rezultat</td>\n",
       "      <td>51</td>\n",
       "    </tr>\n",
       "    <tr>\n",
       "      <th>923</th>\n",
       "      <td>richard</td>\n",
       "      <td>51</td>\n",
       "    </tr>\n",
       "    <tr>\n",
       "      <th>924</th>\n",
       "      <td>Vicente</td>\n",
       "      <td>51</td>\n",
       "    </tr>\n",
       "  </tbody>\n",
       "</table>\n",
       "<p>925 rows × 2 columns</p>\n",
       "</div>"
      ],
      "text/plain": [
       "              author  user_rating\n",
       "0    Amazon Customer        76950\n",
       "1     Cliente Amazon        19300\n",
       "2              e-bit         8411\n",
       "3    Client d'Amazon         7716\n",
       "4       Amazon Kunde         4746\n",
       "..               ...          ...\n",
       "920       ÐÐ¸Ð°Ð½Ð°           51\n",
       "921          dik1609           51\n",
       "922         Rezultat           51\n",
       "923          richard           51\n",
       "924          Vicente           51\n",
       "\n",
       "[925 rows x 2 columns]"
      ]
     },
     "execution_count": 24,
     "metadata": {},
     "output_type": "execute_result"
    }
   ],
   "source": [
    "user=user_rating[user_rating['user_rating']>50]\n",
    "user"
   ]
  },
  {
   "cell_type": "code",
   "execution_count": 25,
   "id": "18f95d80-7d4d-4098-9a17-d6fdec5a7301",
   "metadata": {},
   "outputs": [
    {
     "data": {
      "text/plain": [
       "(6258, 2)"
      ]
     },
     "execution_count": 25,
     "metadata": {},
     "output_type": "execute_result"
    }
   ],
   "source": [
    "product.shape"
   ]
  },
  {
   "cell_type": "code",
   "execution_count": 26,
   "id": "2c193b41-4b30-4b42-abfc-dc2cb959c466",
   "metadata": {},
   "outputs": [
    {
     "data": {
      "text/plain": [
       "(925, 2)"
      ]
     },
     "execution_count": 26,
     "metadata": {},
     "output_type": "execute_result"
    }
   ],
   "source": [
    "user.shape"
   ]
  },
  {
   "cell_type": "markdown",
   "id": "d028ee9a-df3d-41b3-9760-6006e823df00",
   "metadata": {
    "tags": []
   },
   "source": [
    "# 3"
   ]
  },
  {
   "cell_type": "code",
   "execution_count": 27,
   "id": "ce229839-89fe-457f-b948-548da99c9155",
   "metadata": {},
   "outputs": [
    {
     "data": {
      "text/html": [
       "<div>\n",
       "<style scoped>\n",
       "    .dataframe tbody tr th:only-of-type {\n",
       "        vertical-align: middle;\n",
       "    }\n",
       "\n",
       "    .dataframe tbody tr th {\n",
       "        vertical-align: top;\n",
       "    }\n",
       "\n",
       "    .dataframe thead th {\n",
       "        text-align: right;\n",
       "    }\n",
       "</style>\n",
       "<table border=\"1\" class=\"dataframe\">\n",
       "  <thead>\n",
       "    <tr style=\"text-align: right;\">\n",
       "      <th></th>\n",
       "      <th>product</th>\n",
       "      <th>avg_rating</th>\n",
       "    </tr>\n",
       "  </thead>\n",
       "  <tbody>\n",
       "    <tr>\n",
       "      <th>0</th>\n",
       "      <td>Nokia 5310 XpressMusic Rose &amp; Noir - TÃ©lÃ©pho...</td>\n",
       "      <td>10.0</td>\n",
       "    </tr>\n",
       "    <tr>\n",
       "      <th>1</th>\n",
       "      <td>Sony Xperia Z1 - Black</td>\n",
       "      <td>10.0</td>\n",
       "    </tr>\n",
       "    <tr>\n",
       "      <th>2</th>\n",
       "      <td>LG G4 H815 32GB 4G-Smartphone Movistar Libre,(...</td>\n",
       "      <td>10.0</td>\n",
       "    </tr>\n",
       "    <tr>\n",
       "      <th>3</th>\n",
       "      <td>BlackBerry Curve 3G 9300 Red Unlocked Smartphone</td>\n",
       "      <td>10.0</td>\n",
       "    </tr>\n",
       "    <tr>\n",
       "      <th>4</th>\n",
       "      <td>LG G4 H815 32GB 4G-Smartphone Libre(13,97 cm (...</td>\n",
       "      <td>10.0</td>\n",
       "    </tr>\n",
       "    <tr>\n",
       "      <th>...</th>\n",
       "      <td>...</td>\n",
       "      <td>...</td>\n",
       "    </tr>\n",
       "    <tr>\n",
       "      <th>59989</th>\n",
       "      <td>Sony Xperia Z2 (black)</td>\n",
       "      <td>1.0</td>\n",
       "    </tr>\n",
       "    <tr>\n",
       "      <th>59990</th>\n",
       "      <td>Lenovo Motorola Devour- silver (Verizon Wireless)</td>\n",
       "      <td>1.0</td>\n",
       "    </tr>\n",
       "    <tr>\n",
       "      <th>59991</th>\n",
       "      <td>Kyocera Loft S2300 - black (Virgin Mobile)</td>\n",
       "      <td>1.0</td>\n",
       "    </tr>\n",
       "    <tr>\n",
       "      <th>59992</th>\n",
       "      <td>BlackBerry Bold 9700 (AT&amp;T)</td>\n",
       "      <td>1.0</td>\n",
       "    </tr>\n",
       "    <tr>\n",
       "      <th>59993</th>\n",
       "      <td>Samsung Mythic SGH-A897 (AT&amp;T)</td>\n",
       "      <td>1.0</td>\n",
       "    </tr>\n",
       "  </tbody>\n",
       "</table>\n",
       "<p>59994 rows × 2 columns</p>\n",
       "</div>"
      ],
      "text/plain": [
       "                                                 product  avg_rating\n",
       "0      Nokia 5310 XpressMusic Rose & Noir - TÃ©lÃ©pho...        10.0\n",
       "1                                 Sony Xperia Z1 - Black        10.0\n",
       "2      LG G4 H815 32GB 4G-Smartphone Movistar Libre,(...        10.0\n",
       "3       BlackBerry Curve 3G 9300 Red Unlocked Smartphone        10.0\n",
       "4      LG G4 H815 32GB 4G-Smartphone Libre(13,97 cm (...        10.0\n",
       "...                                                  ...         ...\n",
       "59989                             Sony Xperia Z2 (black)         1.0\n",
       "59990  Lenovo Motorola Devour- silver (Verizon Wireless)         1.0\n",
       "59991         Kyocera Loft S2300 - black (Virgin Mobile)         1.0\n",
       "59992                        BlackBerry Bold 9700 (AT&T)         1.0\n",
       "59993                     Samsung Mythic SGH-A897 (AT&T)         1.0\n",
       "\n",
       "[59994 rows x 2 columns]"
      ]
     },
     "execution_count": 27,
     "metadata": {},
     "output_type": "execute_result"
    }
   ],
   "source": [
    "avg_rating=df.groupby('product')['score'].mean().sort_values(ascending=False).reset_index()\n",
    "avg_rating.rename(columns={'score':'avg_rating'},inplace=True)\n",
    "avg_rating"
   ]
  },
  {
   "cell_type": "code",
   "execution_count": 28,
   "id": "bb7e4ff9-b150-4460-8ee8-27d0e7114e13",
   "metadata": {},
   "outputs": [
    {
     "data": {
      "text/html": [
       "<div>\n",
       "<style scoped>\n",
       "    .dataframe tbody tr th:only-of-type {\n",
       "        vertical-align: middle;\n",
       "    }\n",
       "\n",
       "    .dataframe tbody tr th {\n",
       "        vertical-align: top;\n",
       "    }\n",
       "\n",
       "    .dataframe thead th {\n",
       "        text-align: right;\n",
       "    }\n",
       "</style>\n",
       "<table border=\"1\" class=\"dataframe\">\n",
       "  <thead>\n",
       "    <tr style=\"text-align: right;\">\n",
       "      <th></th>\n",
       "      <th>product</th>\n",
       "      <th>num_rating</th>\n",
       "      <th>avg_rating</th>\n",
       "    </tr>\n",
       "  </thead>\n",
       "  <tbody>\n",
       "    <tr>\n",
       "      <th>1218</th>\n",
       "      <td>Samsung Smartphone Dual Chip Samsung Galaxy SI...</td>\n",
       "      <td>153</td>\n",
       "      <td>10.0</td>\n",
       "    </tr>\n",
       "    <tr>\n",
       "      <th>1024</th>\n",
       "      <td>Samsung Smartphone Dual Chip Samsung Galaxy SI...</td>\n",
       "      <td>171</td>\n",
       "      <td>10.0</td>\n",
       "    </tr>\n",
       "    <tr>\n",
       "      <th>1283</th>\n",
       "      <td>Motorola Smartphone Motorola Novo Moto G DTV C...</td>\n",
       "      <td>147</td>\n",
       "      <td>10.0</td>\n",
       "    </tr>\n",
       "    <tr>\n",
       "      <th>1155</th>\n",
       "      <td>Samsung Smartphone Galaxy Win Duos Branco Desb...</td>\n",
       "      <td>158</td>\n",
       "      <td>10.0</td>\n",
       "    </tr>\n",
       "    <tr>\n",
       "      <th>1032</th>\n",
       "      <td>Nokia Smartphone Nokia Lumia 520 Desbloqueado ...</td>\n",
       "      <td>170</td>\n",
       "      <td>10.0</td>\n",
       "    </tr>\n",
       "  </tbody>\n",
       "</table>\n",
       "</div>"
      ],
      "text/plain": [
       "                                                product  num_rating  \\\n",
       "1218  Samsung Smartphone Dual Chip Samsung Galaxy SI...         153   \n",
       "1024  Samsung Smartphone Dual Chip Samsung Galaxy SI...         171   \n",
       "1283  Motorola Smartphone Motorola Novo Moto G DTV C...         147   \n",
       "1155  Samsung Smartphone Galaxy Win Duos Branco Desb...         158   \n",
       "1032  Nokia Smartphone Nokia Lumia 520 Desbloqueado ...         170   \n",
       "\n",
       "      avg_rating  \n",
       "1218        10.0  \n",
       "1024        10.0  \n",
       "1283        10.0  \n",
       "1155        10.0  \n",
       "1032        10.0  "
      ]
     },
     "execution_count": 28,
     "metadata": {},
     "output_type": "execute_result"
    }
   ],
   "source": [
    "popular_df=product_rating.merge(avg_rating,on='product')\n",
    "popular_df=popular_df[popular_df['num_rating']>50].sort_values('avg_rating',ascending=False)\n",
    "popular_df.head(5)"
   ]
  },
  {
   "cell_type": "markdown",
   "id": "0792ef15-eb4f-465e-afdf-b982d07310fd",
   "metadata": {},
   "source": [
    "# 4"
   ]
  },
  {
   "cell_type": "code",
   "execution_count": 29,
   "id": "576b7c3f-b37c-446d-ae67-8035c301eba0",
   "metadata": {},
   "outputs": [],
   "source": [
    "dff=df.sample(n=5000,axis=0)"
   ]
  },
  {
   "cell_type": "code",
   "execution_count": 30,
   "id": "d6735bf8-bd2e-4ad4-a72e-b1b36f708eea",
   "metadata": {},
   "outputs": [],
   "source": [
    "from surprise import Dataset,Reader\n",
    "\n",
    "reader = Reader(rating_scale=(1, 10))\n",
    "data = Dataset.load_from_df(dff[['author', 'product', 'score']], reader)"
   ]
  },
  {
   "cell_type": "code",
   "execution_count": 31,
   "id": "e6ce2433-410b-458f-90f4-b1f2264dd8a7",
   "metadata": {},
   "outputs": [],
   "source": [
    "from surprise.model_selection import train_test_split\n",
    "trainset, testset = train_test_split(data, test_size=.25,random_state=123)"
   ]
  },
  {
   "cell_type": "code",
   "execution_count": 32,
   "id": "c2b073f4-8376-44db-b8e2-dad283667028",
   "metadata": {},
   "outputs": [
    {
     "data": {
      "text/plain": [
       "<generator object Trainset.all_ratings at 0x7f7ba809a0b0>"
      ]
     },
     "execution_count": 32,
     "metadata": {},
     "output_type": "execute_result"
    }
   ],
   "source": [
    "trainset.all_ratings()"
   ]
  },
  {
   "cell_type": "code",
   "execution_count": 33,
   "id": "e976cd11-8f50-4970-b572-744b86c810c1",
   "metadata": {},
   "outputs": [],
   "source": [
    "from surprise import SVD, KNNWithMeans\n",
    "from surprise import accuracy"
   ]
  },
  {
   "cell_type": "code",
   "execution_count": 34,
   "id": "d1277fad-08e3-47bd-a171-0916fde9b10f",
   "metadata": {},
   "outputs": [
    {
     "data": {
      "text/plain": [
       "<surprise.prediction_algorithms.matrix_factorization.SVD at 0x7f7ba809c910>"
      ]
     },
     "execution_count": 34,
     "metadata": {},
     "output_type": "execute_result"
    }
   ],
   "source": [
    "svd_model = SVD(n_factors=5,biased=False)\n",
    "svd_model.fit(trainset)"
   ]
  },
  {
   "cell_type": "code",
   "execution_count": 35,
   "id": "d8985498-e918-42c4-b432-45d224e13b9c",
   "metadata": {},
   "outputs": [
    {
     "data": {
      "text/plain": [
       "('Aakash Naskar', 'LG Optimus Hub', 2.0)"
      ]
     },
     "execution_count": 35,
     "metadata": {},
     "output_type": "execute_result"
    }
   ],
   "source": [
    "testset[0]"
   ]
  },
  {
   "cell_type": "code",
   "execution_count": 36,
   "id": "a41de52c-df81-4698-8b18-bef6cfe55f31",
   "metadata": {},
   "outputs": [],
   "source": [
    "test_pred = svd_model.test(testset)"
   ]
  },
  {
   "cell_type": "code",
   "execution_count": 37,
   "id": "084028e9-ec62-4c25-9c2d-3429fcdf80dd",
   "metadata": {},
   "outputs": [
    {
     "name": "stdout",
     "output_type": "stream",
     "text": [
      "RMSE: 2.9589\n"
     ]
    },
    {
     "data": {
      "text/plain": [
       "2.95887502422136"
      ]
     },
     "execution_count": 37,
     "metadata": {},
     "output_type": "execute_result"
    }
   ],
   "source": [
    "accuracy.rmse(test_pred)"
   ]
  },
  {
   "cell_type": "code",
   "execution_count": 38,
   "id": "7d52e0fd-5221-46e9-b361-429d87292757",
   "metadata": {},
   "outputs": [
    {
     "name": "stdout",
     "output_type": "stream",
     "text": [
      "Computing the msd similarity matrix...\n",
      "Done computing similarity matrix.\n"
     ]
    },
    {
     "data": {
      "text/plain": [
       "<surprise.prediction_algorithms.knns.KNNWithMeans at 0x7f7ba809cdf0>"
      ]
     },
     "execution_count": 38,
     "metadata": {},
     "output_type": "execute_result"
    }
   ],
   "source": [
    "from surprise import KNNWithMeans\n",
    "from surprise import accuracy\n",
    "algo_i = KNNWithMeans(k=10, sim_options={ 'user_based': False})\n",
    "algo_i.fit(trainset)"
   ]
  },
  {
   "cell_type": "code",
   "execution_count": 39,
   "id": "aec53860-2ea2-4c53-976d-ec7741d6de65",
   "metadata": {},
   "outputs": [
    {
     "name": "stdout",
     "output_type": "stream",
     "text": [
      "RMSE: 2.6415\n",
      "2.64145855129507\n"
     ]
    }
   ],
   "source": [
    "test_pred=algo_i.test(testset)\n",
    "print(accuracy.rmse(test_pred))"
   ]
  },
  {
   "cell_type": "markdown",
   "id": "f0f94821-aa2a-4e65-8463-6af9ee8be9e7",
   "metadata": {},
   "source": [
    "# 5"
   ]
  },
  {
   "cell_type": "code",
   "execution_count": 40,
   "id": "cb8e1e70-f7b6-4b19-b13d-ee3478e69ddc",
   "metadata": {},
   "outputs": [
    {
     "name": "stdout",
     "output_type": "stream",
     "text": [
      "RMSE: 2.6415\n"
     ]
    },
    {
     "data": {
      "text/plain": [
       "2.64145855129507"
      ]
     },
     "execution_count": 40,
     "metadata": {},
     "output_type": "execute_result"
    }
   ],
   "source": [
    "accuracy.rmse(test_pred)"
   ]
  },
  {
   "cell_type": "markdown",
   "id": "1d9dbdca-2c31-4d40-802a-ab793351e1a9",
   "metadata": {},
   "source": [
    "# 6"
   ]
  },
  {
   "cell_type": "code",
   "execution_count": 49,
   "id": "20aad737-1190-4ccf-8e41-871dd0fd4ed1",
   "metadata": {},
   "outputs": [
    {
     "data": {
      "text/html": [
       "<div>\n",
       "<style scoped>\n",
       "    .dataframe tbody tr th:only-of-type {\n",
       "        vertical-align: middle;\n",
       "    }\n",
       "\n",
       "    .dataframe tbody tr th {\n",
       "        vertical-align: top;\n",
       "    }\n",
       "\n",
       "    .dataframe thead th {\n",
       "        text-align: right;\n",
       "    }\n",
       "</style>\n",
       "<table border=\"1\" class=\"dataframe\">\n",
       "  <thead>\n",
       "    <tr style=\"text-align: right;\">\n",
       "      <th></th>\n",
       "      <th>t_user</th>\n",
       "      <th>product</th>\n",
       "      <th>original_rating</th>\n",
       "      <th>estimation</th>\n",
       "    </tr>\n",
       "  </thead>\n",
       "  <tbody>\n",
       "    <tr>\n",
       "      <th>0</th>\n",
       "      <td>Aakash Naskar</td>\n",
       "      <td>LG Optimus Hub</td>\n",
       "      <td>2.000000</td>\n",
       "      <td>7.994728</td>\n",
       "    </tr>\n",
       "    <tr>\n",
       "      <th>1</th>\n",
       "      <td>Ð°Ð»ÐµÐºÑÐ°Ð½Ð´Ñ</td>\n",
       "      <td>Samsung Galaxy S5 SM-G900F 16GB (ÑÐ¸Ð½Ð¸Ð¹)</td>\n",
       "      <td>2.000000</td>\n",
       "      <td>7.994728</td>\n",
       "    </tr>\n",
       "    <tr>\n",
       "      <th>2</th>\n",
       "      <td>LETERTRE Guy</td>\n",
       "      <td>Samsung J750</td>\n",
       "      <td>8.008083</td>\n",
       "      <td>7.994728</td>\n",
       "    </tr>\n",
       "    <tr>\n",
       "      <th>3</th>\n",
       "      <td>RW1</td>\n",
       "      <td>Sim Free Apple iPhone SE 64GB Mobile Phone - R...</td>\n",
       "      <td>10.000000</td>\n",
       "      <td>7.994728</td>\n",
       "    </tr>\n",
       "    <tr>\n",
       "      <th>4</th>\n",
       "      <td>Juan</td>\n",
       "      <td>Nokia E63-2 Unlocked Phone with 2 MP Camera, 3...</td>\n",
       "      <td>10.000000</td>\n",
       "      <td>7.994728</td>\n",
       "    </tr>\n",
       "    <tr>\n",
       "      <th>...</th>\n",
       "      <td>...</td>\n",
       "      <td>...</td>\n",
       "      <td>...</td>\n",
       "      <td>...</td>\n",
       "    </tr>\n",
       "    <tr>\n",
       "      <th>1245</th>\n",
       "      <td>T. mcneill</td>\n",
       "      <td>LG Flare Prepaid Phone (Virgin Mobile)</td>\n",
       "      <td>10.000000</td>\n",
       "      <td>7.994728</td>\n",
       "    </tr>\n",
       "    <tr>\n",
       "      <th>1246</th>\n",
       "      <td>Prashanth Nayak</td>\n",
       "      <td>Apple iPhone 6 (Space Grey, 64GB)</td>\n",
       "      <td>10.000000</td>\n",
       "      <td>7.994728</td>\n",
       "    </tr>\n",
       "    <tr>\n",
       "      <th>1247</th>\n",
       "      <td>stefano</td>\n",
       "      <td>LG X Power Smartphone, Schermo IPS 5.3\" HD, 4G...</td>\n",
       "      <td>8.000000</td>\n",
       "      <td>7.994728</td>\n",
       "    </tr>\n",
       "    <tr>\n",
       "      <th>1248</th>\n",
       "      <td>Danaa</td>\n",
       "      <td>Sony Smartphone Sony Xperia M Dual Desbloquead...</td>\n",
       "      <td>6.000000</td>\n",
       "      <td>7.994728</td>\n",
       "    </tr>\n",
       "    <tr>\n",
       "      <th>1249</th>\n",
       "      <td>Cliente Amazon</td>\n",
       "      <td>Doogee X5 - Smartphone Libre 3G Android 5.1 (Q...</td>\n",
       "      <td>10.000000</td>\n",
       "      <td>10.000000</td>\n",
       "    </tr>\n",
       "  </tbody>\n",
       "</table>\n",
       "<p>1249 rows × 4 columns</p>\n",
       "</div>"
      ],
      "text/plain": [
       "                  t_user                                            product  \\\n",
       "0          Aakash Naskar                                     LG Optimus Hub   \n",
       "1     Ð°Ð»ÐµÐºÑÐ°Ð½Ð´Ñ       Samsung Galaxy S5 SM-G900F 16GB (ÑÐ¸Ð½Ð¸Ð¹)   \n",
       "2           LETERTRE Guy                                       Samsung J750   \n",
       "3                    RW1  Sim Free Apple iPhone SE 64GB Mobile Phone - R...   \n",
       "4                   Juan  Nokia E63-2 Unlocked Phone with 2 MP Camera, 3...   \n",
       "...                  ...                                                ...   \n",
       "1245          T. mcneill             LG Flare Prepaid Phone (Virgin Mobile)   \n",
       "1246     Prashanth Nayak                  Apple iPhone 6 (Space Grey, 64GB)   \n",
       "1247             stefano  LG X Power Smartphone, Schermo IPS 5.3\" HD, 4G...   \n",
       "1248               Danaa  Sony Smartphone Sony Xperia M Dual Desbloquead...   \n",
       "1249      Cliente Amazon  Doogee X5 - Smartphone Libre 3G Android 5.1 (Q...   \n",
       "\n",
       "      original_rating  estimation  \n",
       "0            2.000000    7.994728  \n",
       "1            2.000000    7.994728  \n",
       "2            8.008083    7.994728  \n",
       "3           10.000000    7.994728  \n",
       "4           10.000000    7.994728  \n",
       "...               ...         ...  \n",
       "1245        10.000000    7.994728  \n",
       "1246        10.000000    7.994728  \n",
       "1247         8.000000    7.994728  \n",
       "1248         6.000000    7.994728  \n",
       "1249        10.000000   10.000000  \n",
       "\n",
       "[1249 rows x 4 columns]"
      ]
     },
     "execution_count": 49,
     "metadata": {},
     "output_type": "execute_result"
    }
   ],
   "source": [
    "test_user=pd.DataFrame(test_pred)\n",
    "test_user=test_user[['uid','iid','r_ui','est']]\n",
    "test_user.rename(columns={'uid':'t_user','iid':'product','r_ui':'original_rating','est':'estimation'},inplace=True)\n",
    "t_user=test_user.drop_duplicates()\n",
    "t_user"
   ]
  },
  {
   "cell_type": "code",
   "execution_count": 53,
   "id": "e4205ff9-6772-47ae-8ed1-39358cd910ee",
   "metadata": {},
   "outputs": [
    {
     "data": {
      "text/html": [
       "<div>\n",
       "<style scoped>\n",
       "    .dataframe tbody tr th:only-of-type {\n",
       "        vertical-align: middle;\n",
       "    }\n",
       "\n",
       "    .dataframe tbody tr th {\n",
       "        vertical-align: top;\n",
       "    }\n",
       "\n",
       "    .dataframe thead th {\n",
       "        text-align: right;\n",
       "    }\n",
       "</style>\n",
       "<table border=\"1\" class=\"dataframe\">\n",
       "  <thead>\n",
       "    <tr style=\"text-align: right;\">\n",
       "      <th></th>\n",
       "      <th>estimation</th>\n",
       "    </tr>\n",
       "    <tr>\n",
       "      <th>product</th>\n",
       "      <th></th>\n",
       "    </tr>\n",
       "  </thead>\n",
       "  <tbody>\n",
       "    <tr>\n",
       "      <th>Doogee X5 - Smartphone Libre 3G Android 5.1 (Quad Core, 5.0\" IPS 1280*720 HD, 1GB RAM, 8GB ROM, 5.0MP CÃ¡mara, Dual SIM, GPS, OTG) Celular, color Negro</th>\n",
       "      <td>10.000000</td>\n",
       "    </tr>\n",
       "    <tr>\n",
       "      <th>OnePlus X (Limited Edition Ceramic)</th>\n",
       "      <td>10.000000</td>\n",
       "    </tr>\n",
       "    <tr>\n",
       "      <th>DOOGEE T6 Pro Smartphone 4G - 5.5 IPS Android 6.0 Marshmallow Octa Core1.3GHz 3GB RAM 32GB ROM Dual SIM GPS WiFi 6250mAh, Nero</th>\n",
       "      <td>10.000000</td>\n",
       "    </tr>\n",
       "    <tr>\n",
       "      <th>Samsung T404G Prepaid Phone With Triple Minutes (Tracfone)</th>\n",
       "      <td>10.000000</td>\n",
       "    </tr>\n",
       "    <tr>\n",
       "      <th>Apple iPhone 4 CDMA Verizon Cellphone, 16GB, Black</th>\n",
       "      <td>10.000000</td>\n",
       "    </tr>\n",
       "    <tr>\n",
       "      <th>...</th>\n",
       "      <td>...</td>\n",
       "    </tr>\n",
       "    <tr>\n",
       "      <th>Smartphone Samsung Galaxy Young 2 SM-G130</th>\n",
       "      <td>2.000000</td>\n",
       "    </tr>\n",
       "    <tr>\n",
       "      <th>Apple iPhone 6 Plus GSM Unlocked Cellphone, 64GB, Space Gray</th>\n",
       "      <td>2.000000</td>\n",
       "    </tr>\n",
       "    <tr>\n",
       "      <th>HTC Desire 526G Plus (Fervor Red, 16GB)</th>\n",
       "      <td>2.000000</td>\n",
       "    </tr>\n",
       "    <tr>\n",
       "      <th>Lenovo K3 Note (Black)</th>\n",
       "      <td>1.700000</td>\n",
       "    </tr>\n",
       "    <tr>\n",
       "      <th>Microsoft Nokia Lumia 630 Single-SIM Smartphone (4,5 Zoll (11,4 cm) Touch-Display, 8 GB Speicher, Windows 8.1) cyan</th>\n",
       "      <td>1.203959</td>\n",
       "    </tr>\n",
       "  </tbody>\n",
       "</table>\n",
       "<p>1123 rows × 1 columns</p>\n",
       "</div>"
      ],
      "text/plain": [
       "                                                    estimation\n",
       "product                                                       \n",
       "Doogee X5 - Smartphone Libre 3G Android 5.1 (Qu...   10.000000\n",
       "OnePlus X (Limited Edition Ceramic)                  10.000000\n",
       "DOOGEE T6 Pro Smartphone 4G - 5.5 IPS Android 6...   10.000000\n",
       "Samsung T404G Prepaid Phone With Triple Minutes...   10.000000\n",
       "Apple iPhone 4 CDMA Verizon Cellphone, 16GB, Black   10.000000\n",
       "...                                                        ...\n",
       "Smartphone Samsung Galaxy Young 2 SM-G130             2.000000\n",
       "Apple iPhone 6 Plus GSM Unlocked Cellphone, 64G...    2.000000\n",
       "HTC Desire 526G Plus (Fervor Red, 16GB)               2.000000\n",
       "Lenovo K3 Note (Black)                                1.700000\n",
       "Microsoft Nokia Lumia 630 Single-SIM Smartphone...    1.203959\n",
       "\n",
       "[1123 rows x 1 columns]"
      ]
     },
     "execution_count": 53,
     "metadata": {},
     "output_type": "execute_result"
    }
   ],
   "source": [
    "t_user_avg_rating=pd.DataFrame(t_user.groupby('product')['estimation'].mean().sort_values(ascending=False))\n",
    "t_user_avg_rating"
   ]
  },
  {
   "cell_type": "markdown",
   "id": "c1052971-fbfc-48c4-9bd9-0825d9c4f77a",
   "metadata": {},
   "source": [
    "# 7"
   ]
  },
  {
   "cell_type": "markdown",
   "id": "06cc3914-8594-4c91-9145-5d2e23447210",
   "metadata": {},
   "source": [
    "Findings & Inferences:\n",
    "\n",
    "1)There are 1123 test users estimated ratings across all products.\n",
    "\n",
    "2)Estimation rating can be less than or more than the original rating."
   ]
  },
  {
   "cell_type": "markdown",
   "id": "0a4eff42-df91-4f6a-84fa-571c471bbbda",
   "metadata": {},
   "source": [
    "# 8"
   ]
  },
  {
   "cell_type": "code",
   "execution_count": 54,
   "id": "f4e2bef8-a9aa-4675-835e-5152d71f45b4",
   "metadata": {},
   "outputs": [
    {
     "data": {
      "text/html": [
       "<div>\n",
       "<style scoped>\n",
       "    .dataframe tbody tr th:only-of-type {\n",
       "        vertical-align: middle;\n",
       "    }\n",
       "\n",
       "    .dataframe tbody tr th {\n",
       "        vertical-align: top;\n",
       "    }\n",
       "\n",
       "    .dataframe thead th {\n",
       "        text-align: right;\n",
       "    }\n",
       "</style>\n",
       "<table border=\"1\" class=\"dataframe\">\n",
       "  <thead>\n",
       "    <tr style=\"text-align: right;\">\n",
       "      <th></th>\n",
       "      <th>t_user</th>\n",
       "      <th>product</th>\n",
       "      <th>original_rating</th>\n",
       "      <th>estimation</th>\n",
       "    </tr>\n",
       "  </thead>\n",
       "  <tbody>\n",
       "    <tr>\n",
       "      <th>1249</th>\n",
       "      <td>Cliente Amazon</td>\n",
       "      <td>Doogee X5 - Smartphone Libre 3G Android 5.1 (Q...</td>\n",
       "      <td>10.0</td>\n",
       "      <td>10.0</td>\n",
       "    </tr>\n",
       "    <tr>\n",
       "      <th>1234</th>\n",
       "      <td>einem Kunden</td>\n",
       "      <td>Samsung Galaxy S7 edge Smartphone, 13,9 cm (5,...</td>\n",
       "      <td>8.0</td>\n",
       "      <td>10.0</td>\n",
       "    </tr>\n",
       "    <tr>\n",
       "      <th>84</th>\n",
       "      <td>ÐÐ²Ð°Ð½</td>\n",
       "      <td>Sony Xperia Z1 (ÑÐ¸Ð¾Ð»ÐµÑÐ¾Ð²ÑÐ¹)</td>\n",
       "      <td>9.0</td>\n",
       "      <td>10.0</td>\n",
       "    </tr>\n",
       "    <tr>\n",
       "      <th>1162</th>\n",
       "      <td>Stephanie</td>\n",
       "      <td>Samsung Galaxy S6 64 GB UK SIM-Free Smartphone...</td>\n",
       "      <td>10.0</td>\n",
       "      <td>10.0</td>\n",
       "    </tr>\n",
       "    <tr>\n",
       "      <th>1156</th>\n",
       "      <td>Walter</td>\n",
       "      <td>Honor 6X Smartphone portable dÃ©bloquÃ© 4G (Ec...</td>\n",
       "      <td>10.0</td>\n",
       "      <td>10.0</td>\n",
       "    </tr>\n",
       "  </tbody>\n",
       "</table>\n",
       "</div>"
      ],
      "text/plain": [
       "              t_user                                            product  \\\n",
       "1249  Cliente Amazon  Doogee X5 - Smartphone Libre 3G Android 5.1 (Q...   \n",
       "1234    einem Kunden  Samsung Galaxy S7 edge Smartphone, 13,9 cm (5,...   \n",
       "84          ÐÐ²Ð°Ð½              Sony Xperia Z1 (ÑÐ¸Ð¾Ð»ÐµÑÐ¾Ð²ÑÐ¹)   \n",
       "1162       Stephanie  Samsung Galaxy S6 64 GB UK SIM-Free Smartphone...   \n",
       "1156          Walter  Honor 6X Smartphone portable dÃ©bloquÃ© 4G (Ec...   \n",
       "\n",
       "      original_rating  estimation  \n",
       "1249             10.0        10.0  \n",
       "1234              8.0        10.0  \n",
       "84                9.0        10.0  \n",
       "1162             10.0        10.0  \n",
       "1156             10.0        10.0  "
      ]
     },
     "execution_count": 54,
     "metadata": {},
     "output_type": "execute_result"
    }
   ],
   "source": [
    "t_user.sort_values('estimation',ascending=False).head(5) #Top 5 products for test users"
   ]
  },
  {
   "cell_type": "markdown",
   "id": "67ca94d3-e51b-4a65-a128-3ec0572cef2a",
   "metadata": {},
   "source": [
    "# 9"
   ]
  },
  {
   "cell_type": "code",
   "execution_count": 55,
   "id": "8d7c5b6a-1238-4cb0-ac90-341a33177b24",
   "metadata": {},
   "outputs": [
    {
     "name": "stdout",
     "output_type": "stream",
     "text": [
      "Evaluating RMSE, MAE of algorithm SVD on 5 split(s).\n",
      "\n",
      "                  Fold 1  Fold 2  Fold 3  Fold 4  Fold 5  Mean    Std     \n",
      "RMSE (testset)    2.9764  2.8466  2.9458  2.7355  2.9040  2.8817  0.0851  \n",
      "MAE (testset)     2.1942  2.0949  2.1724  2.0720  2.1498  2.1367  0.0462  \n",
      "Fit time          0.14    0.07    0.06    0.07    0.08    0.08    0.03    \n",
      "Test time         0.04    0.02    0.02    0.02    0.02    0.02    0.01    \n"
     ]
    },
    {
     "data": {
      "text/plain": [
       "{'test_rmse': array([2.9763839 , 2.84661816, 2.94577554, 2.7355176 , 2.90401202]),\n",
       " 'test_mae': array([2.19424869, 2.09493007, 2.17244994, 2.07198922, 2.14979457]),\n",
       " 'fit_time': (0.13540983200073242,\n",
       "  0.06994199752807617,\n",
       "  0.05936884880065918,\n",
       "  0.068939208984375,\n",
       "  0.08430266380310059),\n",
       " 'test_time': (0.0400700569152832,\n",
       "  0.018551111221313477,\n",
       "  0.018638134002685547,\n",
       "  0.018732070922851562,\n",
       "  0.015646934509277344)}"
      ]
     },
     "execution_count": 55,
     "metadata": {},
     "output_type": "execute_result"
    }
   ],
   "source": [
    "from surprise.model_selection import cross_validate\n",
    "cross_validate(svd_model, data, measures=[\"RMSE\", \"MAE\"], cv=5, verbose=True) #SVD cross validation"
   ]
  },
  {
   "cell_type": "code",
   "execution_count": 56,
   "id": "8be12b5f-516a-46ae-8b19-591874d579a4",
   "metadata": {},
   "outputs": [
    {
     "name": "stdout",
     "output_type": "stream",
     "text": [
      "Computing the msd similarity matrix...\n",
      "Done computing similarity matrix.\n",
      "Computing the msd similarity matrix...\n",
      "Done computing similarity matrix.\n",
      "Computing the msd similarity matrix...\n",
      "Done computing similarity matrix.\n",
      "Computing the msd similarity matrix...\n",
      "Done computing similarity matrix.\n",
      "Computing the msd similarity matrix...\n",
      "Done computing similarity matrix.\n",
      "Evaluating RMSE, MAE of algorithm KNNWithMeans on 5 split(s).\n",
      "\n",
      "                  Fold 1  Fold 2  Fold 3  Fold 4  Fold 5  Mean    Std     \n",
      "RMSE (testset)    2.5922  2.5838  2.6460  2.5481  2.7030  2.6146  0.0542  \n",
      "MAE (testset)     1.9854  1.9362  1.9953  1.9477  2.0273  1.9784  0.0330  \n",
      "Fit time          0.43    0.30    0.29    0.29    0.40    0.34    0.06    \n",
      "Test time         0.03    0.04    0.03    0.03    0.03    0.03    0.00    \n"
     ]
    },
    {
     "data": {
      "text/plain": [
       "{'test_rmse': array([2.59223472, 2.58380414, 2.64595431, 2.54814363, 2.70300194]),\n",
       " 'test_mae': array([1.98543637, 1.93623532, 1.99530083, 1.94773409, 2.02731913]),\n",
       " 'fit_time': (0.43492817878723145,\n",
       "  0.30059814453125,\n",
       "  0.28601884841918945,\n",
       "  0.29436802864074707,\n",
       "  0.4012937545776367),\n",
       " 'test_time': (0.02917933464050293,\n",
       "  0.039260149002075195,\n",
       "  0.02519989013671875,\n",
       "  0.03395819664001465,\n",
       "  0.032302141189575195)}"
      ]
     },
     "execution_count": 56,
     "metadata": {},
     "output_type": "execute_result"
    }
   ],
   "source": [
    "cross_validate(algo_i, data, measures=[\"RMSE\", \"MAE\"], cv=5, verbose=True) #KNNWithMeans cross validation"
   ]
  },
  {
   "cell_type": "markdown",
   "id": "95bd74e7-50a5-447f-b633-579836028fd4",
   "metadata": {},
   "source": [
    "# 10"
   ]
  },
  {
   "cell_type": "markdown",
   "id": "f9338d23-2529-4657-b016-6a2f875fe0c1",
   "metadata": {},
   "source": [
    "Business scenario for using popularity based Recommended System:\n",
    "\n",
    "When Disney plus hotstar app has to recommend movies which are popular and trending."
   ]
  },
  {
   "cell_type": "markdown",
   "id": "24486bfe-523e-48f6-8075-33c90e649a0a",
   "metadata": {
    "tags": []
   },
   "source": [
    "# 11"
   ]
  },
  {
   "cell_type": "markdown",
   "id": "d7896211-5516-4f7a-b1f7-e76a23612e85",
   "metadata": {},
   "source": [
    "Business scenario for using CF based Recommendation Systems:\n",
    " \n",
    "When Netflix app has to recommend new TV shows for a specific genre oriented customer."
   ]
  },
  {
   "cell_type": "markdown",
   "id": "5c3e6d48-fe02-436c-b1a8-a9991deeac47",
   "metadata": {},
   "source": [
    "# 12"
   ]
  },
  {
   "cell_type": "markdown",
   "id": "ca39dd9f-4db1-436d-bd74-0d5464d8fe86",
   "metadata": {},
   "source": [
    "For further improvement of the recommendation for different users, hybrid recommender can be used."
   ]
  }
 ],
 "metadata": {
  "kernelspec": {
   "display_name": "Python 3 (ipykernel)",
   "language": "python",
   "name": "python3"
  },
  "language_info": {
   "codemirror_mode": {
    "name": "ipython",
    "version": 3
   },
   "file_extension": ".py",
   "mimetype": "text/x-python",
   "name": "python",
   "nbconvert_exporter": "python",
   "pygments_lexer": "ipython3",
   "version": "3.9.7"
  }
 },
 "nbformat": 4,
 "nbformat_minor": 5
}
